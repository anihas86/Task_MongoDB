{
 "cells": [
  {
   "cell_type": "code",
   "execution_count": 1,
   "id": "b603747c",
   "metadata": {},
   "outputs": [],
   "source": [
    "import json\n",
    "import pymongo"
   ]
  },
  {
   "cell_type": "code",
   "execution_count": 3,
   "id": "0a10a124",
   "metadata": {},
   "outputs": [],
   "source": [
    "f = open('students.json')\n",
    "data = json.load(f)"
   ]
  },
  {
   "cell_type": "code",
   "execution_count": 4,
   "id": "99ffb477",
   "metadata": {},
   "outputs": [],
   "source": [
    "client = pymongo.MongoClient('mongodb://127.0.0.1:27017/')"
   ]
  },
  {
   "cell_type": "code",
   "execution_count": 5,
   "id": "d3f8c94c",
   "metadata": {},
   "outputs": [],
   "source": [
    "mydb = client['student_db_and_collection']"
   ]
  },
  {
   "cell_type": "code",
   "execution_count": 6,
   "id": "5f0f2c24",
   "metadata": {},
   "outputs": [],
   "source": [
    "collection = mydb.full_data"
   ]
  },
  {
   "cell_type": "code",
   "execution_count": 7,
   "id": "ac6c8b76",
   "metadata": {},
   "outputs": [],
   "source": [
    "if isinstance(data,list):\n",
    "    collection.insert_many(data)\n",
    "else:\n",
    "    collection.insert_one(data)"
   ]
  },
  {
   "cell_type": "code",
   "execution_count": 8,
   "id": "88598f26",
   "metadata": {},
   "outputs": [],
   "source": [
    "collection1 = mydb.q1\n",
    "collection2 = mydb.q2\n",
    "collection3 = mydb.q3\n",
    "collection41 = mydb.q4c1\n",
    "collection42 = mydb.q4c2\n",
    "collection5 = mydb.q5\n",
    "collection6 = mydb.q6\n",
    "collection7 = mydb.q7"
   ]
  },
  {
   "cell_type": "markdown",
   "id": "a4bc1e89",
   "metadata": {},
   "source": [
    "# 1) Find the student name who scored maximum scores in all (exam, quiz and homework)?"
   ]
  },
  {
   "cell_type": "code",
   "execution_count": 9,
   "id": "ed94040b",
   "metadata": {},
   "outputs": [],
   "source": [
    "for i in collection.aggregate([{'$project' : {'name' : 1, 'Maximumofscores' : {'$max' : '$scores.score'}}},\n",
    "                               {'$sort' : {'Maximumofscores' : -1}},\n",
    "                               {'$limit' : 1}]) :\n",
    "    collection1.insert_one(i)"
   ]
  },
  {
   "cell_type": "markdown",
   "id": "ab1bcd8a",
   "metadata": {},
   "source": [
    "# 2) Find students who scored below average in the exam and pass mark is 40%?"
   ]
  },
  {
   "cell_type": "code",
   "execution_count": 10,
   "id": "3b539dfd",
   "metadata": {},
   "outputs": [],
   "source": [
    "for i in collection.aggregate([{'$unwind' : '$scores'},\n",
    "                               \n",
    "                               {'$match': { 'scores.type': 'exam'}},\n",
    "                               \n",
    "                               {'$group': { '_id': 'null', 'avg_exam': { '$avg': '$scores.score'},\n",
    "                               'examscorebelowaverageandabove40' : {'$addToSet' : {'_id' : '$_id', 'name' : '$name', 'examscore' :'$scores.score'}}}},\n",
    "                               \n",
    "                               {'$project' : {'_id' : 0,\n",
    "                                            'examscore' : {\n",
    "                                                         '$filter' : {\n",
    "                                                          'input' : \"$examscore\",\n",
    "                                                          'as' : \"examscores\",\n",
    "                                                          'cond' : {\n",
    "                                                                '$lt' : [\"$$examscores.score\", \"$avg_exam\"] }}}}},\n",
    "                               {'$unwind' : '$examscore'},\n",
    "                               {'$match' : {'examscore.score' : {'$gt' : 40}}}\n",
    "                              ]):\n",
    "    collection2.insert_one(i)"
   ]
  },
  {
   "cell_type": "markdown",
   "id": "7242c857",
   "metadata": {},
   "source": [
    "# 3) Find students who scored below pass mark and assign them as fail, and above pass mark as pass in all the categories."
   ]
  },
  {
   "cell_type": "code",
   "execution_count": 12,
   "id": "1874ba81",
   "metadata": {},
   "outputs": [],
   "source": [
    "for i in collection.aggregate([{'$project' : {'name' : 1, 'examcolumn' : {'$slice' : ['$scores', 1]},\n",
    "                                              'quizcolumn' : {'$slice' : ['$scores', 1, 1]},\n",
    "                                              'homeworkcolumn' : {'$slice' : ['$scores', 2, 1]}}},\n",
    "                               {'$project' : {'name' : 1, 'examscore' : {'$min' : '$examcolumn.score'},\n",
    "                                              'quizscore' : {'$min' : '$quizcolumn.score'},\n",
    "                                              'homeworkscore' : {'$min' : '$homeworkcolumn.score'}}},\n",
    "                               {'$group' : {'_id' : 'null', 'sumexam' : {'$sum' : '$examscore'}, \n",
    "                                           'sumquiz' : {'$sum' : '$quizscore'}, 'sumhomework' : {'$sum' : '$homeworkscore'}}},\n",
    "                               {'$project' : {'_id' : 0, 'totalofexam' : '$sumexam', 'totalofquiz' : '$sumquiz',\n",
    "                                             'totalofhomework' : '$sumhomework'}}\n",
    "                               ]):\n",
    "    collection41.insert_one(i)\n",
    "\n",
    "for i in collection.aggregate([{'$project' : {'name' : 1, 'examcolumn' : {'$slice' : ['$scores', 1]},\n",
    "                                              'quizcolumn' : {'$slice' : ['$scores', 1, 1]},\n",
    "                                              'homeworkcolumn' : {'$slice' : ['$scores', 2, 1]}}},\n",
    "                               {'$project' : {'name' : 1, 'examscore' : {'$min' : '$examcolumn.score'},\n",
    "                                              'quizscore' : {'$min' : '$quizcolumn.score'},\n",
    "                                              'homeworkscore' : {'$min' : '$homeworkcolumn.score'}}},\n",
    "                               {'$group' : {'_id' : 'null', 'avgexam' : {'$avg' : '$examscore'}, \n",
    "                                           'avgquiz' : {'$avg' : '$quizscore'}, 'avghomework' : {'$avg' : '$homeworkscore'}}},\n",
    "                               {'$project' : {'_id' : 0, 'averageofexam' : '$avgexam', 'averageofquiz' : '$avgquiz',\n",
    "                                             'averageofhomework' : '$avghomework'}}\n",
    "                               ]):\n",
    "    collection42.insert_one(i)"
   ]
  },
  {
   "cell_type": "markdown",
   "id": "6b72e81c",
   "metadata": {},
   "source": [
    "# 5) Create a new collection which consists of students who scored below average in all the categories."
   ]
  },
  {
   "cell_type": "code",
   "execution_count": 13,
   "id": "bb1782ca",
   "metadata": {},
   "outputs": [],
   "source": [
    "for i in collection.aggregate([{'$project' : {'name' : 1, 'examcolumn' : {'$slice' : ['$scores', 1]},\n",
    "                                              'quizcolumn' : {'$slice' : ['$scores', 1, 1]},\n",
    "                                              'homeworkcolumn' : {'$slice' : ['$scores', 2, 1]}}},\n",
    "                               {'$project' : {'name' : 1, 'examscore' : {'$min' : '$examcolumn.score'},\n",
    "                                              'quizscore' : {'$min' : '$quizcolumn.score'},\n",
    "                                              'homeworkscore' : {'$min' : '$homeworkcolumn.score'}}},\n",
    "                               {'$group' : {'_id' : 'null', 'avgexam' : {'$avg' : '$examscore'}, \n",
    "                                           'avgquiz' : {'$avg' : '$quizscore'}, 'avghomework' : {'$avg' : '$homeworkscore'},\n",
    "                                           'allscore' : {'$addToSet' : {'_id' : '$_id', 'name' : '$name', 'examscore' :'$examscore',\n",
    "                                                                       'quizscore' : '$quizscore', 'homeworkscore' : '$homeworkscore'}}}},\n",
    "                               {'$project' : {'_id' : 0, 'avgquiz' : '$avgquiz', 'avghomework' : '$avghomework',\n",
    "                                            'allscore' : {\n",
    "                                                         '$filter' : {\n",
    "                                                          'input' : \"$allscore\",\n",
    "                                                          'as' : \"allscores\",\n",
    "                                                          'cond' :{'$lt' : [\"$$allscores.examscore\", \"$avgexam\"]\n",
    "                                                           }}}}},\n",
    "                               {'$project' : {'_id' : 0, 'avghomework' : '$avghomework',\n",
    "                                            'allscore' : {\n",
    "                                                         '$filter' : {\n",
    "                                                          'input' : \"$allscore\",\n",
    "                                                          'as' : \"allscores\",\n",
    "                                                          'cond' :{'$lt' : [\"$$allscores.quizscore\", \"$avgquiz\"]\n",
    "                                                           }}}}},\n",
    "                               {'$project' : {'_id' : 0,\n",
    "                                            'allscoresbelowaverage' : {\n",
    "                                                         '$filter' : {\n",
    "                                                          'input' : \"$allscore\",\n",
    "                                                          'as' : \"allscores\",\n",
    "                                                          'cond' :{'$lt' : [\"$$allscores.homeworkscore\", \"$avghomework\"]\n",
    "                                                           }}}}}\n",
    "                               ]):\n",
    "    collection5.insert_one(i)"
   ]
  },
  {
   "cell_type": "markdown",
   "id": "98047efd",
   "metadata": {},
   "source": [
    "# 6) Create a new collection which consists of students who scored below the fail mark in all the categories."
   ]
  },
  {
   "cell_type": "code",
   "execution_count": 14,
   "id": "2a928c7f",
   "metadata": {},
   "outputs": [],
   "source": [
    "for i in collection.aggregate([{'$project' : {'name' : 1, 'examcolumn' : {'$slice' : ['$scores', 1]},\n",
    "                                              'quizcolumn' : {'$slice' : ['$scores', 1, 1]},\n",
    "                                              'homeworkcolumn' : {'$slice' : ['$scores', 2, 1]}}},\n",
    "                               {'$project' : {'name' : 1, 'examscore' : {'$min' : '$examcolumn.score'},\n",
    "                                              'quizscore' : {'$min' : '$quizcolumn.score'},\n",
    "                                              'homeworkscore' : {'$min' : '$homeworkcolumn.score'}}},\n",
    "                               {'$project' : {'name' : 1, 'examscore' : 1, 'quizscore' : 1, 'homeworkscore' : 1,\n",
    "                                                          'Examresult' : {'$cond' : [{'$gt': ['$examscore', 40]}, 1, 0]},\n",
    "                                                          'Quizresult' : {'$cond' : [{'$gt': ['$quizscore', 40]}, 1, 0]},\n",
    "                                                          'Homeworkresult' : {'$cond' : [{'$gt': ['$homeworkscore', 40]}, 1, 0]}}},\n",
    "                               {'$project' : {'name' : 1, 'examscore' : 1, 'quizscore' : 1, 'homeworkscore' : 1,\n",
    "                                              'Sumofresult' : {'$sum' : ['$Examresult', '$Quizresult', '$Homeworkresult']}}},\n",
    "                               {'$project' : {'name' : {'$cond' : [{'$eq': ['$Sumofresult', 0]}, '$name',0]},\n",
    "                                             'examscore' : 1, 'quizscore' : 1, 'homeworkscore' : 1}},\n",
    "                               {'$match' : {'name' : {'$ne': 0}}}\n",
    "                              ]):\n",
    "    collection6.insert_one(i)"
   ]
  },
  {
   "cell_type": "markdown",
   "id": "e496b0c6",
   "metadata": {},
   "source": [
    "# 7) Create a new collectio which consists of students who scored above pass mark in all the categories."
   ]
  },
  {
   "cell_type": "code",
   "execution_count": 15,
   "id": "1c0391e4",
   "metadata": {},
   "outputs": [],
   "source": [
    "for i in collection.aggregate([{'$project' : {'name' : 1, 'examcolumn' : {'$slice' : ['$scores', 1]},\n",
    "                                              'quizcolumn' : {'$slice' : ['$scores', 1, 1]},\n",
    "                                              'homeworkcolumn' : {'$slice' : ['$scores', 2, 1]}}},\n",
    "                               {'$project' : {'name' : 1, 'examscore' : {'$min' : '$examcolumn.score'},\n",
    "                                              'quizscore' : {'$min' : '$quizcolumn.score'},\n",
    "                                              'homeworkscore' : {'$min' : '$homeworkcolumn.score'}}},\n",
    "                               {'$project' : {'name' : 1, 'examscore' : 1, 'quizscore' : 1, 'homeworkscore' : 1,\n",
    "                                                          'Examresult' : {'$cond' : [{'$gt': ['$examscore', 40]}, 1, 0]},\n",
    "                                                          'Quizresult' : {'$cond' : [{'$gt': ['$quizscore', 40]}, 1, 0]},\n",
    "                                                          'Homeworkresult' : {'$cond' : [{'$gt': ['$homeworkscore', 40]}, 1, 0]}}},\n",
    "                               {'$project' : {'name' : 1, 'examscore' : 1, 'quizscore' : 1, 'homeworkscore' : 1,\n",
    "                                              'Sumofresult' : {'$sum' : ['$Examresult', '$Quizresult', '$Homeworkresult']}}},\n",
    "                               {'$project' : {'name' : {'$cond' : [{'$eq': ['$Sumofresult', 3]}, '$name',0]},\n",
    "                                             'examscore' : 1, 'quizscore' : 1, 'homeworkscore' : 1}},\n",
    "                               {'$match' : {'name' : {'$ne': 0}}}\n",
    "                              ]):\n",
    "    collection7.insert_one(i)"
   ]
  },
  {
   "cell_type": "code",
   "execution_count": null,
   "id": "054fb08e",
   "metadata": {},
   "outputs": [],
   "source": []
  }
 ],
 "metadata": {
  "kernelspec": {
   "display_name": "Python 3 (ipykernel)",
   "language": "python",
   "name": "python3"
  },
  "language_info": {
   "codemirror_mode": {
    "name": "ipython",
    "version": 3
   },
   "file_extension": ".py",
   "mimetype": "text/x-python",
   "name": "python",
   "nbconvert_exporter": "python",
   "pygments_lexer": "ipython3",
   "version": "3.9.13"
  }
 },
 "nbformat": 4,
 "nbformat_minor": 5
}
